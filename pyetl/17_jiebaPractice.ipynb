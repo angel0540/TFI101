{
 "cells": [
  {
   "cell_type": "code",
   "execution_count": 1,
   "id": "25bc2959",
   "metadata": {},
   "outputs": [],
   "source": [
    "import jieba"
   ]
  },
  {
   "cell_type": "code",
   "execution_count": 2,
   "id": "2781988b",
   "metadata": {},
   "outputs": [
    {
     "name": "stderr",
     "output_type": "stream",
     "text": [
      "Building prefix dict from the default dictionary ...\n",
      "Dumping model to file cache /var/folders/bv/8bbkzq895db366kq27vw262r0000gn/T/jieba.cache\n",
      "Loading model cost 0.933 seconds.\n",
      "Prefix dict has been built successfully.\n"
     ]
    },
    {
     "name": "stdout",
     "output_type": "stream",
     "text": [
      "大家|好|，|我|叫|小|賀|，|今天|來|台北|北大|數|據|班上|課|，|覺|得|非常|開|心\n",
      "大家|好|，|我|叫|小賀|，|今天|來|台北|大數據|班上|課|，|覺得|非常|開心\n",
      "大家|好|，|我|叫|小賀|，|今天|來|台北|大數據|班上|課|，|覺得|非常|開心\n",
      "大家|好|，|我|叫|小賀|，|今天|來|台北|大數據|班上|課|，|覺得|非常|開心\n"
     ]
    }
   ],
   "source": [
    "s = '大家好，我叫小賀，今天來台北大數據班上課，覺得非常開心'\n",
    "\n",
    "sCut1 = jieba.cut(s, cut_all=True)\n",
    "sCut2 = jieba.cut(s, cut_all=False)\n",
    "sCut3 = jieba.cut(s)\n",
    "sCut4 = jieba.cut_for_search(s)\n",
    "\n",
    "print('|'.join(sCut1))\n",
    "print('|'.join(sCut2))\n",
    "print('|'.join(sCut3))\n",
    "print('|'.join(sCut4))"
   ]
  },
  {
   "cell_type": "code",
   "execution_count": 3,
   "id": "b5d8f498",
   "metadata": {},
   "outputs": [],
   "source": [
    "jieba.load_userdict('./mydict.txt')"
   ]
  },
  {
   "cell_type": "code",
   "execution_count": 4,
   "id": "f3a4d072",
   "metadata": {},
   "outputs": [
    {
     "name": "stdout",
     "output_type": "stream",
     "text": [
      "大家|好|，|我|叫|小|賀|，|今天|來|台北|北大|大數據班|班上|課|，|覺|得|非常|開|心\n",
      "大家|好|，|我|叫|小賀|，|今天|來|台北|大數據班|上課|，|覺得|非常|開心\n",
      "大家|好|，|我|叫|小賀|，|今天|來|台北|大數據班|上課|，|覺得|非常|開心\n",
      "大家|好|，|我|叫|小賀|，|今天|來|台北|大數據班|上課|，|覺得|非常|開心\n"
     ]
    }
   ],
   "source": [
    "sCut1 = jieba.cut(s, cut_all=True)\n",
    "sCut2 = jieba.cut(s, cut_all=False)\n",
    "sCut3 = jieba.cut(s)\n",
    "sCut4 = jieba.cut_for_search(s)\n",
    "\n",
    "print('|'.join(sCut1))\n",
    "print('|'.join(sCut2))\n",
    "print('|'.join(sCut3))\n",
    "print('|'.join(sCut4))"
   ]
  },
  {
   "cell_type": "code",
   "execution_count": null,
   "id": "f9bfd505",
   "metadata": {},
   "outputs": [],
   "source": []
  }
 ],
 "metadata": {
  "kernelspec": {
   "display_name": "Python 3 (ipykernel)",
   "language": "python",
   "name": "python3"
  },
  "language_info": {
   "codemirror_mode": {
    "name": "ipython",
    "version": 3
   },
   "file_extension": ".py",
   "mimetype": "text/x-python",
   "name": "python",
   "nbconvert_exporter": "python",
   "pygments_lexer": "ipython3",
   "version": "3.8.2"
  }
 },
 "nbformat": 4,
 "nbformat_minor": 5
}
